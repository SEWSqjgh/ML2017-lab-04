{
 "cells": [
  {
   "cell_type": "code",
   "execution_count": 1,
   "metadata": {
    "collapsed": false
   },
   "outputs": [
    {
     "name": "stdout",
     "output_type": "stream",
     "text": [
      "Number of users = 943 | Number of movies = 1682\n",
      "[[ 4.11644283  3.40891834  3.23624203 ...,  2.16171263  2.51624778\n",
      "   2.02645422]\n",
      " [ 3.87501059  3.15389196  2.98477921 ...,  2.00009945  2.33926349\n",
      "   1.95301269]\n",
      " [ 3.1140067   2.49959361  2.35953264 ...,  1.58523349  1.86122644\n",
      "   1.59824421]\n",
      " ..., \n",
      " [ 3.70305939  3.10635058  2.95575273 ...,  1.96976614  2.28478398\n",
      "   1.79017494]\n",
      " [ 4.38558364  3.55081178  3.35719594 ...,  2.2518507   2.6375377\n",
      "   2.22570605]\n",
      " [ 4.04686     3.20756157  3.02067842 ...,  2.03430674  2.3969967\n",
      "   2.11067936]]\n"
     ]
    },
    {
     "data": {
      "image/png": "[encoded data removed]",
      "text/plain": [
       "<matplotlib.figure.Figure at 0xaf07b70>"
      ]
     },
     "metadata": {},
     "output_type": "display_data"
    }
   ],
   "source": [
    "import pandas as pd\n",
    "import matplotlib.pyplot as plt\n",
    "from sklearn.model_selection import train_test_split\n",
    "%matplotlib inline\n",
    "try:\n",
    "    import numpy as np\n",
    "except:\n",
    "    print(\"This implementation requires the numpy module.\")\n",
    "    exit(0)\n",
    "\n",
    "def get_data(filename):\n",
    "    header = ['user_id', 'item_id', 'rating', 'timestamp']\n",
    "    df = pd.read_csv(filename, sep = '\\t', names = header)\n",
    "    n_users = df.user_id.unique().shape[0]\n",
    "    n_items = df.item_id.unique().shape[0]\n",
    "    print ('Number of users = ' + str(n_users) + ' | Number of movies = ' + str(n_items))\n",
    "    return df,n_users,n_items\n",
    "\n",
    "\"\"\"    \n",
    "    @INPUT:\n",
    "    R     : a matrix to be factorized, dimension N x M\n",
    "    P     : an initial matrix of dimension N x K\n",
    "    Q     : an initial matrix of dimension M x K\n",
    "    K     : the number of latent features\n",
    "    steps : the maximum number of steps to perform the optimisation\n",
    "    alpha : the learning rate\n",
    "    beta  : the regularization parameter\n",
    "@OUTPUT:\n",
    "    the final matrices P and Q\n",
    "\"\"\"\n",
    "    \n",
    "def loss(R, P, Q, K, beta=0.02):\n",
    "    Q = Q.T\n",
    "    e = 0\n",
    "    for i in range(len(R)):\n",
    "        for j in range(len(R[i])):\n",
    "            if R[i][j] > 0:\n",
    "                e = e + pow(R[i][j] - np.dot(P[i,:],Q[:,j]), 2)\n",
    "                for k in range(K):\n",
    "                    e = e + (beta/2) * ( pow(P[i][k],2) + pow(Q[k][j],2) )\n",
    "    return e\n",
    "\n",
    "def matrix_factorization(R, P, Q, K, alpha=0.0002, beta=0.02):\n",
    "    Q = Q.T\n",
    "    for i in range(len(R)):\n",
    "        for j in range(len(R[i])):\n",
    "            if R[i][j] > 0:\n",
    "                eij = R[i][j] - np.dot(P[i,:],Q[:,j])\n",
    "                for k in range(K):\n",
    "                    P[i][k] = P[i][k] + alpha * (2 * eij * Q[k][j] - beta * P[i][k])\n",
    "                    Q[k][j] = Q[k][j] + alpha * (2 * eij * P[i][k] - beta * Q[k][j])\n",
    "    \n",
    "    return P, Q.T\n",
    "\n",
    "\n",
    "if __name__ == \"__main__\":\n",
    "    data,m,n =get_data('./ml-100k/u.data')\n",
    "    train_data, test_data = train_test_split(data,test_size = 0.2)\n",
    "    train_data_ndarray = np.zeros((m,n))\n",
    "    test_data_ndarray = np.zeros((m,n))\n",
    "    for line in train_data.itertuples():\n",
    "        train_data_ndarray[line[1]-1,line[2]-1] = line[3]\n",
    "    for line in test_data.itertuples():\n",
    "        test_data_ndarray[line[1]-1,line[2]-1] = line[3]\n",
    "\n",
    "    k = 2\n",
    "    p = np.random.rand(m,k)\n",
    "    q = np.random.rand(n,k)\n",
    "    steps=50\n",
    "    e = []\n",
    "    for step in range(steps):\n",
    "        nP, nQ = matrix_factorization(train_data_ndarray, p, q, k)\n",
    "        e.append(loss(test_data_ndarray,nP,nQ,k))\n",
    "        #if e[step] < 5000:\n",
    "           # break\n",
    "    plt.plot(e)\n",
    "    plt.ylabel('loss')\n",
    "    plt.xlabel('The number of iterations')\n",
    "    print(np.dot(nP,nQ.T))\n"
   ]
  },
  {
   "cell_type": "code",
   "execution_count": null,
   "metadata": {
    "collapsed": true
   },
   "outputs": [],
   "source": []
  }
 ],
 "metadata": {
  "anaconda-cloud": {},
  "kernelspec": {
   "display_name": "Python [default]",
   "language": "python",
   "name": "python3"
  },
  "language_info": {
   "codemirror_mode": {
    "name": "ipython",
    "version": 3
   },
   "file_extension": ".py",
   "mimetype": "text/x-python",
   "name": "python",
   "nbconvert_exporter": "python",
   "pygments_lexer": "ipython3",
   "version": "3.5.2"
  }
 },
 "nbformat": 4,
 "nbformat_minor": 1
}
